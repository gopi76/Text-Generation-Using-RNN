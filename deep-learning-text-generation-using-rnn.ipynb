{
 "cells": [
  {
   "cell_type": "markdown",
   "id": "64a19297",
   "metadata": {
    "_cell_guid": "e084e610-8128-4769-ab64-6aa194044892",
    "_uuid": "20c011dd401be7b6448c43f965e5d0bf548c53b9",
    "id": "CbB4DzTUR1lU",
    "papermill": {
     "duration": 0.014462,
     "end_time": "2021-09-30T17:41:32.664182",
     "exception": false,
     "start_time": "2021-09-30T17:41:32.649720",
     "status": "completed"
    },
    "tags": []
   },
   "source": [
    "## Generating text for news headlines:\n",
    "Language Modelling is the core problem for a number of of natural language processing tasks such as speech to text, conversational system, and text summarization. A trained language model learns the likelihood of occurrence of a word/ character based on the previous sequence of words/ characters used in the text. Language models can be operated at character level, n-gram level, sentence level or even paragraph level. We will create a language model for predicting next word by implementing and training state-of-the-art Recurrent Neural Networks under Deep Learning. \n",
    "\n",
    "We will use **Keras** library in python to implement our project."
   ]
  },
  {
   "cell_type": "markdown",
   "id": "6033f989",
   "metadata": {
    "papermill": {
     "duration": 0.012638,
     "end_time": "2021-09-30T17:41:32.691710",
     "exception": false,
     "start_time": "2021-09-30T17:41:32.679072",
     "status": "completed"
    },
    "tags": []
   },
   "source": [
    "### 1. Import the libraries"
   ]
  },
  {
   "cell_type": "code",
   "execution_count": 1,
   "id": "a4a114b9",
   "metadata": {
    "_cell_guid": "b1076dfc-b9ad-4769-8c92-a6c4dae69d19",
    "_uuid": "8f2839f25d086af736a60e9eeb907d3b93b6e0e5",
    "execution": {
     "iopub.execute_input": "2021-09-30T17:41:32.722604Z",
     "iopub.status.busy": "2021-09-30T17:41:32.721043Z",
     "iopub.status.idle": "2021-09-30T17:41:37.185156Z",
     "shell.execute_reply": "2021-09-30T17:41:37.184531Z",
     "shell.execute_reply.started": "2021-09-30T17:40:07.397331Z"
    },
    "id": "u8Sa63mNR1lV",
    "papermill": {
     "duration": 4.480734,
     "end_time": "2021-09-30T17:41:37.185324",
     "exception": false,
     "start_time": "2021-09-30T17:41:32.704590",
     "status": "completed"
    },
    "tags": []
   },
   "outputs": [
    {
     "name": "stderr",
     "output_type": "stream",
     "text": [
      "2021-09-30 17:41:33.282647: I tensorflow/stream_executor/platform/default/dso_loader.cc:49] Successfully opened dynamic library libcudart.so.11.0\n"
     ]
    }
   ],
   "source": [
    "# Let us import required libraries first\n",
    "from tensorflow.keras.preprocessing.sequence import pad_sequences\n",
    "from tensorflow.keras.layers import Embedding, SimpleRNN, Dense, Dropout\n",
    "from tensorflow.keras.preprocessing.text import Tokenizer\n",
    "from tensorflow.keras.callbacks import EarlyStopping\n",
    "from tensorflow.keras.models import Sequential\n",
    "import tensorflow.keras.utils as ku \n",
    "import tensorflow\n",
    "\n",
    "# set seeds for reproducability\n",
    "tensorflow.random.set_seed(200)\n",
    "\n",
    "import pandas as pd\n",
    "import numpy as np\n",
    "import string\n",
    "\n",
    "import warnings\n",
    "warnings.filterwarnings(\"ignore\")"
   ]
  },
  {
   "cell_type": "markdown",
   "id": "3bcfcaab",
   "metadata": {
    "_cell_guid": "79c7e3d0-c299-4dcb-8224-4455121ee9b0",
    "_uuid": "d629ff2d2480ee46fbb7e2d37f6b5fab8052498a",
    "id": "WjPOpsj_R1lc",
    "papermill": {
     "duration": 0.013434,
     "end_time": "2021-09-30T17:41:37.213527",
     "exception": false,
     "start_time": "2021-09-30T17:41:37.200093",
     "status": "completed"
    },
    "tags": []
   },
   "source": [
    "### 2. Load the dataset\n",
    "\n",
    "Load the dataset of news headlines"
   ]
  },
  {
   "cell_type": "code",
   "execution_count": 2,
   "id": "5896a2f8",
   "metadata": {
    "execution": {
     "iopub.execute_input": "2021-09-30T17:41:37.245952Z",
     "iopub.status.busy": "2021-09-30T17:41:37.245335Z",
     "iopub.status.idle": "2021-09-30T17:41:37.299074Z",
     "shell.execute_reply": "2021-09-30T17:41:37.298575Z",
     "shell.execute_reply.started": "2021-09-30T17:40:13.294352Z"
    },
    "id": "xcWRtbKTSNlQ",
    "outputId": "f190a568-05aa-4357-808f-ecb32e4fae78",
    "papermill": {
     "duration": 0.072018,
     "end_time": "2021-09-30T17:41:37.299206",
     "exception": false,
     "start_time": "2021-09-30T17:41:37.227188",
     "status": "completed"
    },
    "tags": []
   },
   "outputs": [
    {
     "data": {
      "text/plain": [
       "1250"
      ]
     },
     "execution_count": 2,
     "metadata": {},
     "output_type": "execute_result"
    }
   ],
   "source": [
    "all_headlines = []\n",
    "article_df = pd.read_csv('../input/news-headlines/ArticlesMarch2018.csv')\n",
    "all_headlines.extend(list(article_df.headline.values))\n",
    "all_headlines = [h for h in all_headlines if h != \"Unknown\"]\n",
    "len(all_headlines)"
   ]
  },
  {
   "cell_type": "code",
   "execution_count": 3,
   "id": "86a8ddd4",
   "metadata": {
    "execution": {
     "iopub.execute_input": "2021-09-30T17:41:37.337552Z",
     "iopub.status.busy": "2021-09-30T17:41:37.336712Z",
     "iopub.status.idle": "2021-09-30T17:41:37.341719Z",
     "shell.execute_reply": "2021-09-30T17:41:37.341220Z",
     "shell.execute_reply.started": "2021-09-30T17:40:13.359700Z"
    },
    "id": "q0OH8h-FLFfS",
    "outputId": "37502c1e-d92b-4fe9-f67f-66aed2691dd4",
    "papermill": {
     "duration": 0.026046,
     "end_time": "2021-09-30T17:41:37.341958",
     "exception": false,
     "start_time": "2021-09-30T17:41:37.315912",
     "status": "completed"
    },
    "tags": []
   },
   "outputs": [
    {
     "data": {
      "text/plain": [
       "['Virtual Coins, Real Resources',\n",
       " 'U.S. Advances Military Plans for North Korea',\n",
       " 'Mr. Trump and the ‘Very Bad Judge’',\n",
       " 'To Erase Dissent, China Bans Pooh Bear and ‘N’',\n",
       " 'Loans Flowed to Kushner Cos. After Visits to the White House',\n",
       " 'China Envoy Intends To Ease Trade Tensions',\n",
       " 'President Trump’s Contradictory, and Sometimes False, Comments About Gun Policy to Lawmakers',\n",
       " 'Classic Letter Puzzle',\n",
       " 'Silicon Valley Disruption In an Australian School',\n",
       " '‘The Assassination of Gianni Versace’ Episode 6: A Nothing Man']"
      ]
     },
     "execution_count": 3,
     "metadata": {},
     "output_type": "execute_result"
    }
   ],
   "source": [
    "all_headlines[:10]"
   ]
  },
  {
   "cell_type": "markdown",
   "id": "e11f544d",
   "metadata": {
    "_cell_guid": "9dbd8bc9-fb61-43b9-b0c4-98bd7f3f8150",
    "_uuid": "fda5d4868631d3618d4d9a9a863541b2faf121c0",
    "id": "HkF21nnDR1lg",
    "papermill": {
     "duration": 0.015287,
     "end_time": "2021-09-30T17:41:37.374583",
     "exception": false,
     "start_time": "2021-09-30T17:41:37.359296",
     "status": "completed"
    },
    "tags": []
   },
   "source": [
    "### 3. Dataset preparation\n",
    "\n",
    "#### 3.1 Dataset cleaning \n",
    "\n",
    "In dataset preparation step, we will first perform text cleaning of the data which includes removal of punctuations and lower casing all the words. "
   ]
  },
  {
   "cell_type": "code",
   "execution_count": 4,
   "id": "273f39b8",
   "metadata": {
    "_cell_guid": "b8bf84ed-da11-4f89-a584-9dceea677420",
    "_uuid": "2a07365a27a7ba2f92fc9ba4d05d8e6254a68d8c",
    "execution": {
     "iopub.execute_input": "2021-09-30T17:41:37.421361Z",
     "iopub.status.busy": "2021-09-30T17:41:37.420526Z",
     "iopub.status.idle": "2021-09-30T17:41:37.424210Z",
     "shell.execute_reply": "2021-09-30T17:41:37.423672Z",
     "shell.execute_reply.started": "2021-09-30T17:40:13.377906Z"
    },
    "id": "agBhQcIvR1lh",
    "outputId": "1715ba7b-872f-4a1a-8bbe-137b185c74be",
    "papermill": {
     "duration": 0.034873,
     "end_time": "2021-09-30T17:41:37.424319",
     "exception": false,
     "start_time": "2021-09-30T17:41:37.389446",
     "status": "completed"
    },
    "tags": []
   },
   "outputs": [
    {
     "data": {
      "text/plain": [
       "['virtual coins real resources',\n",
       " 'us advances military plans for north korea',\n",
       " 'mr trump and the very bad judge',\n",
       " 'to erase dissent china bans pooh bear and n',\n",
       " 'loans flowed to kushner cos after visits to the white house',\n",
       " 'china envoy intends to ease trade tensions',\n",
       " 'president trumps contradictory and sometimes false comments about gun policy to lawmakers',\n",
       " 'classic letter puzzle',\n",
       " 'silicon valley disruption in an australian school',\n",
       " 'the assassination of gianni versace episode 6 a nothing man']"
      ]
     },
     "execution_count": 4,
     "metadata": {},
     "output_type": "execute_result"
    }
   ],
   "source": [
    "def clean_text(txt):\n",
    "    txt = \"\".join(v for v in txt if v not in string.punctuation).lower()\n",
    "    txt = txt.encode(\"utf8\").decode(\"ascii\",'ignore')\n",
    "    return txt \n",
    "\n",
    "corpus = [clean_text(x) for x in all_headlines]\n",
    "corpus[:10]"
   ]
  },
  {
   "cell_type": "markdown",
   "id": "b9947f82",
   "metadata": {
    "_cell_guid": "9d83cc08-19ba-4b00-9ca6-dcf5ff39c8af",
    "_uuid": "6fd11859fd71aa5c7ce10bdbbd31c8eb6d1b3118",
    "id": "tImxs8ZNR1ll",
    "papermill": {
     "duration": 0.014495,
     "end_time": "2021-09-30T17:41:37.453626",
     "exception": false,
     "start_time": "2021-09-30T17:41:37.439131",
     "status": "completed"
    },
    "tags": []
   },
   "source": [
    "#### 3.2 Generating Sequence of N-gram Tokens\n",
    "The next step is Tokenization. Tokenization is a process of extracting tokens (terms / words) from a corpus. Python’s library Keras has inbuilt model for tokenization which can be used to obtain the tokens and their index in the corpus. After this step, every text document in the dataset is converted into sequence of tokens. \n"
   ]
  },
  {
   "cell_type": "code",
   "execution_count": 5,
   "id": "8ddba2e7",
   "metadata": {
    "execution": {
     "iopub.execute_input": "2021-09-30T17:41:37.512409Z",
     "iopub.status.busy": "2021-09-30T17:41:37.500435Z",
     "iopub.status.idle": "2021-09-30T17:41:37.516369Z",
     "shell.execute_reply": "2021-09-30T17:41:37.516932Z",
     "shell.execute_reply.started": "2021-09-30T17:40:13.407165Z"
    },
    "id": "gSjZEaiRMbgg",
    "outputId": "4de86568-8da8-4450-e4b7-93a5ba8f6aad",
    "papermill": {
     "duration": 0.048788,
     "end_time": "2021-09-30T17:41:37.517111",
     "exception": false,
     "start_time": "2021-09-30T17:41:37.468323",
     "status": "completed"
    },
    "tags": []
   },
   "outputs": [
    {
     "name": "stdout",
     "output_type": "stream",
     "text": [
      "[33, 469, 1062, 3, 191, 16, 84, 767]\n"
     ]
    },
    {
     "data": {
      "text/plain": [
       "[[33, 469],\n",
       " [33, 469, 1062],\n",
       " [33, 469, 1062, 3],\n",
       " [33, 469, 1062, 3, 191],\n",
       " [33, 469, 1062, 3, 191, 16],\n",
       " [33, 469, 1062, 3, 191, 16, 84],\n",
       " [33, 469, 1062, 3, 191, 16, 84, 767]]"
      ]
     },
     "execution_count": 5,
     "metadata": {},
     "output_type": "execute_result"
    }
   ],
   "source": [
    "tokenizer = Tokenizer()\n",
    "tokenizer.fit_on_texts(corpus)\n",
    "token_list = tokenizer.texts_to_sequences([\"I am happy to see you here today\"])[0]\n",
    "print(token_list)\n",
    "\n",
    "check=[]\n",
    "\n",
    "for i in range(1, len(token_list)):\n",
    "  n_gram_sequence = token_list[:i+1]\n",
    "  check.append(n_gram_sequence)\n",
    "\n",
    "check"
   ]
  },
  {
   "cell_type": "code",
   "execution_count": 6,
   "id": "e34ee397",
   "metadata": {
    "_cell_guid": "896543c9-7944-4748-b8ef-ef8cbc2a84f0",
    "_uuid": "9129a8b773feb72eff91aa0025157a173d10c625",
    "execution": {
     "iopub.execute_input": "2021-09-30T17:41:37.571319Z",
     "iopub.status.busy": "2021-09-30T17:41:37.570565Z",
     "iopub.status.idle": "2021-09-30T17:41:37.595488Z",
     "shell.execute_reply": "2021-09-30T17:41:37.596075Z",
     "shell.execute_reply.started": "2021-09-30T17:40:13.447383Z"
    },
    "id": "YhjzI4eWR1ll",
    "outputId": "027d17e4-cc0b-4591-88e5-6d74cac06358",
    "papermill": {
     "duration": 0.063827,
     "end_time": "2021-09-30T17:41:37.596199",
     "exception": false,
     "start_time": "2021-09-30T17:41:37.532372",
     "status": "completed"
    },
    "tags": []
   },
   "outputs": [
    {
     "data": {
      "text/plain": [
       "([[1119, 1120],\n",
       "  [1119, 1120, 116],\n",
       "  [1119, 1120, 116, 1121],\n",
       "  [31, 1122],\n",
       "  [31, 1122, 589],\n",
       "  [31, 1122, 589, 392],\n",
       "  [31, 1122, 589, 392, 7],\n",
       "  [31, 1122, 589, 392, 7, 61],\n",
       "  [31, 1122, 589, 392, 7, 61, 70],\n",
       "  [117, 10]],\n",
       " 3582)"
      ]
     },
     "execution_count": 6,
     "metadata": {},
     "output_type": "execute_result"
    }
   ],
   "source": [
    "tokenizer = Tokenizer()\n",
    "\n",
    "def get_sequence_of_tokens(corpus):\n",
    "    ## tokenization\n",
    "    tokenizer.fit_on_texts(corpus)\n",
    "    total_words = len(tokenizer.word_index) + 1    \n",
    "    \n",
    "    ## convert data to sequence of tokens \n",
    "    input_sequences = []\n",
    "    for line in corpus:\n",
    "        token_list = tokenizer.texts_to_sequences([line])[0]\n",
    "        for i in range(1, len(token_list)):\n",
    "            n_gram_sequence = token_list[:i+1]\n",
    "            input_sequences.append(n_gram_sequence)\n",
    "    return input_sequences, total_words\n",
    "\n",
    "inp_sequences, total_words = get_sequence_of_tokens(corpus)\n",
    "\n",
    "inp_sequences[:10], total_words"
   ]
  },
  {
   "cell_type": "markdown",
   "id": "5177d0e1",
   "metadata": {
    "_cell_guid": "a22c88f5-f2a3-457c-835b-63341e657e3f",
    "_uuid": "f22aa5e0c04620ca5034ab9389322eee543060c6",
    "id": "rY7xLNsXR1lo",
    "papermill": {
     "duration": 0.014885,
     "end_time": "2021-09-30T17:41:37.626148",
     "exception": false,
     "start_time": "2021-09-30T17:41:37.611263",
     "status": "completed"
    },
    "tags": []
   },
   "source": [
    "In the above output [1119, 1120], [1119, 1120,116], [1119, 1120, 116, 1121] and so on represents the ngram phrases generated from the input data. where every integer corresponds to the index of a particular word in the complete vocabulary of words present in the text. For example\n",
    "\n",
    "**Headline:** i stand  with the shedevils  \n",
    "**Ngrams:** | **Sequence of Tokens**\n",
    "\n",
    "<table>\n",
    "<tr><td>Ngram </td><td> Sequence of Tokens</td></tr>\n",
    "<tr> <td>i stand </td><td> [30, 507] </td></tr>\n",
    "<tr> <td>i stand with </td><td> [30, 507, 11] </td></tr>\n",
    "<tr> <td>i stand with the </td><td> [30, 507, 11, 1] </td></tr>\n",
    "<tr> <td>i stand with the shedevils </td><td> [30, 507, 11, 1, 975] </td></tr>\n",
    "</table>\n",
    "\n",
    "\n",
    "\n",
    "#### 3.3 Padding the Sequences and obtain Variables : Predictors and Target\n",
    "Now we have generated a data-set which contains sequence of tokens. Before starting training the model, we need to pad the sequences and make their lengths equal. We can use pad_sequence function of Kears for this purpose. To input this data into a learning model, we need to create predictors and label. For example:\n",
    "\n",
    "\n",
    "Headline:  they are learning data science\n",
    "\n",
    "<table>\n",
    "<tr><td>PREDICTORS </td> <td>           LABEL </td></tr>\n",
    "<tr><td>they                   </td> <td>  are</td></tr>\n",
    "<tr><td>they are               </td> <td>  learning</td></tr>\n",
    "<tr><td>they are learning      </td> <td>  data</td></tr>\n",
    "<tr><td>they are learning data </td> <td>  science</td></tr>\n",
    "</table>"
   ]
  },
  {
   "cell_type": "code",
   "execution_count": 7,
   "id": "716b957a",
   "metadata": {
    "_cell_guid": "73254551-40bd-45b1-a7a5-88fe4cbe0b20",
    "_uuid": "ca588b414e70e21bebcead960f6632805d37dd8c",
    "execution": {
     "iopub.execute_input": "2021-09-30T17:41:37.667734Z",
     "iopub.status.busy": "2021-09-30T17:41:37.666519Z",
     "iopub.status.idle": "2021-09-30T17:41:37.737451Z",
     "shell.execute_reply": "2021-09-30T17:41:37.736722Z",
     "shell.execute_reply.started": "2021-09-30T17:40:13.510110Z"
    },
    "id": "dFQ8LfydR1lp",
    "outputId": "7beb8d5b-dfca-45ab-88a2-e2a1ee9623bc",
    "papermill": {
     "duration": 0.096386,
     "end_time": "2021-09-30T17:41:37.737572",
     "exception": false,
     "start_time": "2021-09-30T17:41:37.641186",
     "status": "completed"
    },
    "tags": []
   },
   "outputs": [
    {
     "data": {
      "text/plain": [
       "(array([[   0,    0,    0, ...,    0,    0, 1119],\n",
       "        [   0,    0,    0, ...,    0, 1119, 1120],\n",
       "        [   0,    0,    0, ..., 1119, 1120,  116],\n",
       "        ...,\n",
       "        [   0,    0,    0, ...,  979,  151,  386],\n",
       "        [   0,    0,    0, ...,    0,    0, 3581],\n",
       "        [   0,    0,    0, ...,    0, 3581,    5]], dtype=int32),\n",
       " array([[0., 0., 0., ..., 0., 0., 0.],\n",
       "        [0., 0., 0., ..., 0., 0., 0.],\n",
       "        [0., 0., 0., ..., 0., 0., 0.],\n",
       "        ...,\n",
       "        [0., 0., 0., ..., 0., 0., 0.],\n",
       "        [0., 0., 0., ..., 0., 0., 0.],\n",
       "        [0., 0., 0., ..., 0., 0., 0.]], dtype=float32),\n",
       " 3582,\n",
       " 18)"
      ]
     },
     "execution_count": 7,
     "metadata": {},
     "output_type": "execute_result"
    }
   ],
   "source": [
    "def generate_padded_sequences(input_sequences):\n",
    "    max_sequence_len = max([len(x) for x in input_sequences])\n",
    "    input_sequences = np.array(pad_sequences(input_sequences, maxlen=max_sequence_len, padding='pre'))\n",
    "    \n",
    "    predictors, label = input_sequences[:,:-1],input_sequences[:,-1]\n",
    "    label = ku.to_categorical(label, num_classes=total_words)\n",
    "    return predictors, label, max_sequence_len\n",
    "\n",
    "predictors, label, max_sequence_len = generate_padded_sequences(inp_sequences)\n",
    "predictors,label,len(label[0]),max_sequence_len"
   ]
  },
  {
   "cell_type": "markdown",
   "id": "3bdafcc8",
   "metadata": {
    "_cell_guid": "8b5d80ff-54a8-4380-8a3c-149be880551d",
    "_uuid": "8b8a64b96011f427c48d5b0819e3e74af604ce43",
    "id": "IwidhfayR1lt",
    "papermill": {
     "duration": 0.015715,
     "end_time": "2021-09-30T17:41:37.769350",
     "exception": false,
     "start_time": "2021-09-30T17:41:37.753635",
     "status": "completed"
    },
    "tags": []
   },
   "source": [
    "Perfect, now we can obtain the input vector X (predictors) and the label vector Y (label) which can be used for the training purposes. Now we will create RNN model for out data.\n",
    "\n",
    "### 4. RNN for Text Generation\n",
    "Unlike Feed-forward neural networks in which activation outputs are propagated only in one direction, the activation outputs from neurons propagate in both directions (from inputs to outputs and from outputs to inputs) in Recurrent Neural Networks. This creates loops in the neural network architecture which acts as a ‘memory state’ of the neurons. This state allows the neurons an ability to remember what have been learned so far.\n",
    "\n",
    "The memory state in RNNs gives an advantage over traditional neural networks. Lets architecture a RNN model in our code. We have added total three layers in the model.\n",
    "\n",
    "1. Input Layer : Takes the sequence of words as input\n",
    "2. RNN Layer : Computes the output using RNN units. We have added 200 units in the layer.\n",
    "3. Dropout Layer : A regularisation layer which randomly turns-off the activations of some neurons in the RNN layer. It helps in preventing over fitting. \n",
    "4. Output Layer : Computes the probability of the best possible next word as output\n",
    "\n",
    "We will run this model for total 100 epoochs but it can be experimented further."
   ]
  },
  {
   "cell_type": "code",
   "execution_count": 8,
   "id": "dc83c566",
   "metadata": {
    "_cell_guid": "60d6721e-e40e-4f2b-8f63-c06459d68f26",
    "_uuid": "76ef6d9352002d333a7c75e8aed7ce996015f527",
    "execution": {
     "iopub.execute_input": "2021-09-30T17:41:37.806857Z",
     "iopub.status.busy": "2021-09-30T17:41:37.806079Z",
     "iopub.status.idle": "2021-09-30T17:41:39.898826Z",
     "shell.execute_reply": "2021-09-30T17:41:39.898222Z",
     "shell.execute_reply.started": "2021-09-30T17:40:13.632665Z"
    },
    "id": "KkIKnEy1R1lu",
    "outputId": "b3f9fd2d-0ace-4f69-e414-b6c10ddb79ed",
    "papermill": {
     "duration": 2.114226,
     "end_time": "2021-09-30T17:41:39.898971",
     "exception": false,
     "start_time": "2021-09-30T17:41:37.784745",
     "status": "completed"
    },
    "tags": []
   },
   "outputs": [
    {
     "name": "stderr",
     "output_type": "stream",
     "text": [
      "2021-09-30 17:41:37.815004: I tensorflow/compiler/jit/xla_cpu_device.cc:41] Not creating XLA devices, tf_xla_enable_xla_devices not set\n",
      "2021-09-30 17:41:37.818150: I tensorflow/stream_executor/platform/default/dso_loader.cc:49] Successfully opened dynamic library libcuda.so.1\n",
      "2021-09-30 17:41:37.860094: I tensorflow/stream_executor/cuda/cuda_gpu_executor.cc:941] successful NUMA node read from SysFS had negative value (-1), but there must be at least one NUMA node, so returning NUMA node zero\n",
      "2021-09-30 17:41:37.860720: I tensorflow/core/common_runtime/gpu/gpu_device.cc:1720] Found device 0 with properties: \n",
      "pciBusID: 0000:00:04.0 name: Tesla P100-PCIE-16GB computeCapability: 6.0\n",
      "coreClock: 1.3285GHz coreCount: 56 deviceMemorySize: 15.90GiB deviceMemoryBandwidth: 681.88GiB/s\n",
      "2021-09-30 17:41:37.860795: I tensorflow/stream_executor/platform/default/dso_loader.cc:49] Successfully opened dynamic library libcudart.so.11.0\n",
      "2021-09-30 17:41:37.885920: I tensorflow/stream_executor/platform/default/dso_loader.cc:49] Successfully opened dynamic library libcublas.so.11\n",
      "2021-09-30 17:41:37.886003: I tensorflow/stream_executor/platform/default/dso_loader.cc:49] Successfully opened dynamic library libcublasLt.so.11\n",
      "2021-09-30 17:41:37.901713: I tensorflow/stream_executor/platform/default/dso_loader.cc:49] Successfully opened dynamic library libcufft.so.10\n",
      "2021-09-30 17:41:37.910162: I tensorflow/stream_executor/platform/default/dso_loader.cc:49] Successfully opened dynamic library libcurand.so.10\n",
      "2021-09-30 17:41:37.933747: I tensorflow/stream_executor/platform/default/dso_loader.cc:49] Successfully opened dynamic library libcusolver.so.10\n",
      "2021-09-30 17:41:37.942004: I tensorflow/stream_executor/platform/default/dso_loader.cc:49] Successfully opened dynamic library libcusparse.so.11\n",
      "2021-09-30 17:41:37.944825: I tensorflow/stream_executor/platform/default/dso_loader.cc:49] Successfully opened dynamic library libcudnn.so.8\n",
      "2021-09-30 17:41:37.944971: I tensorflow/stream_executor/cuda/cuda_gpu_executor.cc:941] successful NUMA node read from SysFS had negative value (-1), but there must be at least one NUMA node, so returning NUMA node zero\n",
      "2021-09-30 17:41:37.945612: I tensorflow/stream_executor/cuda/cuda_gpu_executor.cc:941] successful NUMA node read from SysFS had negative value (-1), but there must be at least one NUMA node, so returning NUMA node zero\n",
      "2021-09-30 17:41:37.947062: I tensorflow/core/common_runtime/gpu/gpu_device.cc:1862] Adding visible gpu devices: 0\n",
      "2021-09-30 17:41:37.947938: I tensorflow/core/platform/cpu_feature_guard.cc:142] This TensorFlow binary is optimized with oneAPI Deep Neural Network Library (oneDNN) to use the following CPU instructions in performance-critical operations:  AVX2 AVX512F FMA\n",
      "To enable them in other operations, rebuild TensorFlow with the appropriate compiler flags.\n",
      "2021-09-30 17:41:37.948165: I tensorflow/compiler/jit/xla_gpu_device.cc:99] Not creating XLA devices, tf_xla_enable_xla_devices not set\n",
      "2021-09-30 17:41:37.948295: I tensorflow/stream_executor/cuda/cuda_gpu_executor.cc:941] successful NUMA node read from SysFS had negative value (-1), but there must be at least one NUMA node, so returning NUMA node zero\n",
      "2021-09-30 17:41:37.948849: I tensorflow/core/common_runtime/gpu/gpu_device.cc:1720] Found device 0 with properties: \n",
      "pciBusID: 0000:00:04.0 name: Tesla P100-PCIE-16GB computeCapability: 6.0\n",
      "coreClock: 1.3285GHz coreCount: 56 deviceMemorySize: 15.90GiB deviceMemoryBandwidth: 681.88GiB/s\n",
      "2021-09-30 17:41:37.948882: I tensorflow/stream_executor/platform/default/dso_loader.cc:49] Successfully opened dynamic library libcudart.so.11.0\n",
      "2021-09-30 17:41:37.948901: I tensorflow/stream_executor/platform/default/dso_loader.cc:49] Successfully opened dynamic library libcublas.so.11\n",
      "2021-09-30 17:41:37.948917: I tensorflow/stream_executor/platform/default/dso_loader.cc:49] Successfully opened dynamic library libcublasLt.so.11\n",
      "2021-09-30 17:41:37.948932: I tensorflow/stream_executor/platform/default/dso_loader.cc:49] Successfully opened dynamic library libcufft.so.10\n",
      "2021-09-30 17:41:37.948947: I tensorflow/stream_executor/platform/default/dso_loader.cc:49] Successfully opened dynamic library libcurand.so.10\n",
      "2021-09-30 17:41:37.948961: I tensorflow/stream_executor/platform/default/dso_loader.cc:49] Successfully opened dynamic library libcusolver.so.10\n",
      "2021-09-30 17:41:37.948977: I tensorflow/stream_executor/platform/default/dso_loader.cc:49] Successfully opened dynamic library libcusparse.so.11\n",
      "2021-09-30 17:41:37.948993: I tensorflow/stream_executor/platform/default/dso_loader.cc:49] Successfully opened dynamic library libcudnn.so.8\n",
      "2021-09-30 17:41:37.949109: I tensorflow/stream_executor/cuda/cuda_gpu_executor.cc:941] successful NUMA node read from SysFS had negative value (-1), but there must be at least one NUMA node, so returning NUMA node zero\n",
      "2021-09-30 17:41:37.949718: I tensorflow/stream_executor/cuda/cuda_gpu_executor.cc:941] successful NUMA node read from SysFS had negative value (-1), but there must be at least one NUMA node, so returning NUMA node zero\n",
      "2021-09-30 17:41:37.950352: I tensorflow/core/common_runtime/gpu/gpu_device.cc:1862] Adding visible gpu devices: 0\n",
      "2021-09-30 17:41:37.951319: I tensorflow/stream_executor/platform/default/dso_loader.cc:49] Successfully opened dynamic library libcudart.so.11.0\n",
      "2021-09-30 17:41:39.440064: I tensorflow/core/common_runtime/gpu/gpu_device.cc:1261] Device interconnect StreamExecutor with strength 1 edge matrix:\n",
      "2021-09-30 17:41:39.440113: I tensorflow/core/common_runtime/gpu/gpu_device.cc:1267]      0 \n",
      "2021-09-30 17:41:39.440124: I tensorflow/core/common_runtime/gpu/gpu_device.cc:1280] 0:   N \n",
      "2021-09-30 17:41:39.442389: I tensorflow/stream_executor/cuda/cuda_gpu_executor.cc:941] successful NUMA node read from SysFS had negative value (-1), but there must be at least one NUMA node, so returning NUMA node zero\n",
      "2021-09-30 17:41:39.443176: I tensorflow/stream_executor/cuda/cuda_gpu_executor.cc:941] successful NUMA node read from SysFS had negative value (-1), but there must be at least one NUMA node, so returning NUMA node zero\n",
      "2021-09-30 17:41:39.443842: I tensorflow/stream_executor/cuda/cuda_gpu_executor.cc:941] successful NUMA node read from SysFS had negative value (-1), but there must be at least one NUMA node, so returning NUMA node zero\n",
      "2021-09-30 17:41:39.444450: I tensorflow/core/common_runtime/gpu/gpu_device.cc:1406] Created TensorFlow device (/job:localhost/replica:0/task:0/device:GPU:0 with 14957 MB memory) -> physical GPU (device: 0, name: Tesla P100-PCIE-16GB, pci bus id: 0000:00:04.0, compute capability: 6.0)\n"
     ]
    },
    {
     "name": "stdout",
     "output_type": "stream",
     "text": [
      "Model: \"sequential\"\n",
      "_________________________________________________________________\n",
      "Layer (type)                 Output Shape              Param #   \n",
      "=================================================================\n",
      "embedding (Embedding)        (None, 17, 32)            114624    \n",
      "_________________________________________________________________\n",
      "simple_rnn (SimpleRNN)       (None, 200)               46600     \n",
      "_________________________________________________________________\n",
      "dropout (Dropout)            (None, 200)               0         \n",
      "_________________________________________________________________\n",
      "dense (Dense)                (None, 3582)              719982    \n",
      "=================================================================\n",
      "Total params: 881,206\n",
      "Trainable params: 881,206\n",
      "Non-trainable params: 0\n",
      "_________________________________________________________________\n"
     ]
    }
   ],
   "source": [
    "def create_model(max_sequence_len, total_words):\n",
    "    input_len = max_sequence_len - 1\n",
    "    model = Sequential()\n",
    "    \n",
    "    # Setting early_stopping feature to stop early on getting stagnant\n",
    "    early_stopping = EarlyStopping(\n",
    "    min_delta=0.01, # minimium amount of change to count as an improvement\n",
    "    patience=5, # how many epochs to wait before stopping\n",
    "    restore_best_weights=True,\n",
    "    )\n",
    "    \n",
    "    # Add Input Embedding Layer\n",
    "    model.add(Embedding(total_words, 32, input_length=input_len))\n",
    "   \n",
    "    # input_dim: Integer. Size of the vocabulary, i.e. maximum integer index + 1.\n",
    "    # output_dim: Integer. Dimension of the dense embedding.\n",
    "    # input_length: Length of input sequences, when it is constant. \n",
    "\n",
    "    # Add Hidden Layer 1 - RNN Layer\n",
    "    model.add(SimpleRNN(200))\n",
    "    \n",
    "    # Add Hidden Layer 2 - Dropout Layer\n",
    "    model.add(Dropout(0.1))\n",
    "    \n",
    "    # Add Output Layer\n",
    "    model.add(Dense(total_words, activation='softmax'))\n",
    "\n",
    "    model.compile(loss='categorical_crossentropy', optimizer='adam')\n",
    "    \n",
    "    return model\n",
    "\n",
    "model = create_model(max_sequence_len, total_words)\n",
    "model.summary()"
   ]
  },
  {
   "cell_type": "markdown",
   "id": "b2113e33",
   "metadata": {
    "_cell_guid": "1826aa1a-cb77-4379-a69d-e9b180945dce",
    "_uuid": "f0b16b471969dbb831cb0024e303341e11b63de4",
    "id": "UdBpZSRzR1lz",
    "papermill": {
     "duration": 0.015837,
     "end_time": "2021-09-30T17:41:39.931660",
     "exception": false,
     "start_time": "2021-09-30T17:41:39.915823",
     "status": "completed"
    },
    "tags": []
   },
   "source": [
    "Lets train our model now"
   ]
  },
  {
   "cell_type": "code",
   "execution_count": 9,
   "id": "261be263",
   "metadata": {
    "_cell_guid": "07d5cf03-d171-4993-9f8b-18446649ecb0",
    "_uuid": "156f3303b8120cc6932e6db985cbea4a7ceb08bf",
    "execution": {
     "iopub.execute_input": "2021-09-30T17:41:39.968480Z",
     "iopub.status.busy": "2021-09-30T17:41:39.967862Z",
     "iopub.status.idle": "2021-09-30T17:54:16.485099Z",
     "shell.execute_reply": "2021-09-30T17:54:16.485516Z"
    },
    "id": "PzAPw05OR1lz",
    "outputId": "d369686b-d421-40ef-86aa-8be5cefd4f3d",
    "papermill": {
     "duration": 756.537974,
     "end_time": "2021-09-30T17:54:16.485662",
     "exception": false,
     "start_time": "2021-09-30T17:41:39.947688",
     "status": "completed"
    },
    "tags": []
   },
   "outputs": [
    {
     "name": "stderr",
     "output_type": "stream",
     "text": [
      "2021-09-30 17:41:40.110498: I tensorflow/compiler/mlir/mlir_graph_optimization_pass.cc:116] None of the MLIR optimization passes are enabled (registered 2)\n",
      "2021-09-30 17:41:40.120884: I tensorflow/core/platform/profile_utils/cpu_utils.cc:112] CPU Frequency: 2000185000 Hz\n"
     ]
    },
    {
     "name": "stdout",
     "output_type": "stream",
     "text": [
      "Epoch 1/200\n"
     ]
    },
    {
     "name": "stderr",
     "output_type": "stream",
     "text": [
      "2021-09-30 17:41:41.308093: I tensorflow/stream_executor/platform/default/dso_loader.cc:49] Successfully opened dynamic library libcublas.so.11\n"
     ]
    },
    {
     "name": "stdout",
     "output_type": "stream",
     "text": [
      "  9/252 [>.............................] - ETA: 3s - loss: 8.1521"
     ]
    },
    {
     "name": "stderr",
     "output_type": "stream",
     "text": [
      "2021-09-30 17:41:42.097939: I tensorflow/stream_executor/platform/default/dso_loader.cc:49] Successfully opened dynamic library libcublasLt.so.11\n"
     ]
    },
    {
     "name": "stdout",
     "output_type": "stream",
     "text": [
      "252/252 [==============================] - 6s 14ms/step - loss: 7.6990\n",
      "Epoch 2/200\n",
      "252/252 [==============================] - 4s 15ms/step - loss: 7.0846\n",
      "Epoch 3/200\n",
      "252/252 [==============================] - 3s 14ms/step - loss: 6.7609\n",
      "Epoch 4/200\n",
      "252/252 [==============================] - 4s 14ms/step - loss: 6.3343\n",
      "Epoch 5/200\n",
      "252/252 [==============================] - 4s 15ms/step - loss: 5.9024\n",
      "Epoch 6/200\n",
      "252/252 [==============================] - 3s 13ms/step - loss: 5.3916\n",
      "Epoch 7/200\n",
      "252/252 [==============================] - 3s 13ms/step - loss: 4.9392\n",
      "Epoch 8/200\n",
      "252/252 [==============================] - 4s 15ms/step - loss: 4.4402\n",
      "Epoch 9/200\n",
      "252/252 [==============================] - 4s 15ms/step - loss: 4.0146\n",
      "Epoch 10/200\n",
      "252/252 [==============================] - 3s 13ms/step - loss: 3.5824\n",
      "Epoch 11/200\n",
      "252/252 [==============================] - 4s 15ms/step - loss: 3.1623\n",
      "Epoch 12/200\n",
      "252/252 [==============================] - 4s 14ms/step - loss: 2.8042\n",
      "Epoch 13/200\n",
      "252/252 [==============================] - 4s 14ms/step - loss: 2.4651\n",
      "Epoch 14/200\n",
      "252/252 [==============================] - 4s 15ms/step - loss: 2.2182\n",
      "Epoch 15/200\n",
      "252/252 [==============================] - 3s 14ms/step - loss: 2.0262\n",
      "Epoch 16/200\n",
      "252/252 [==============================] - 3s 13ms/step - loss: 1.7747\n",
      "Epoch 17/200\n",
      "252/252 [==============================] - 4s 16ms/step - loss: 1.5992\n",
      "Epoch 18/200\n",
      "252/252 [==============================] - 4s 15ms/step - loss: 1.4526\n",
      "Epoch 19/200\n",
      "252/252 [==============================] - 3s 14ms/step - loss: 1.2906\n",
      "Epoch 20/200\n",
      "252/252 [==============================] - 4s 15ms/step - loss: 1.1978\n",
      "Epoch 21/200\n",
      "252/252 [==============================] - 3s 13ms/step - loss: 1.0833\n",
      "Epoch 22/200\n",
      "252/252 [==============================] - 3s 13ms/step - loss: 0.9983\n",
      "Epoch 23/200\n",
      "252/252 [==============================] - 3s 14ms/step - loss: 0.9005\n",
      "Epoch 24/200\n",
      "252/252 [==============================] - 4s 14ms/step - loss: 0.8293\n",
      "Epoch 25/200\n",
      "252/252 [==============================] - 4s 15ms/step - loss: 0.7289\n",
      "Epoch 26/200\n",
      "252/252 [==============================] - 4s 14ms/step - loss: 0.7008\n",
      "Epoch 27/200\n",
      "252/252 [==============================] - 3s 14ms/step - loss: 0.6327\n",
      "Epoch 28/200\n",
      "252/252 [==============================] - 4s 16ms/step - loss: 0.5747\n",
      "Epoch 29/200\n",
      "252/252 [==============================] - 4s 16ms/step - loss: 0.5487\n",
      "Epoch 30/200\n",
      "252/252 [==============================] - 4s 14ms/step - loss: 0.5455\n",
      "Epoch 31/200\n",
      "252/252 [==============================] - 3s 13ms/step - loss: 0.4861\n",
      "Epoch 32/200\n",
      "252/252 [==============================] - 4s 15ms/step - loss: 0.4847\n",
      "Epoch 33/200\n",
      "252/252 [==============================] - 4s 14ms/step - loss: 0.4470\n",
      "Epoch 34/200\n",
      "252/252 [==============================] - 4s 16ms/step - loss: 0.4300\n",
      "Epoch 35/200\n",
      "252/252 [==============================] - 4s 15ms/step - loss: 0.4064\n",
      "Epoch 36/200\n",
      "252/252 [==============================] - 4s 17ms/step - loss: 0.4250\n",
      "Epoch 37/200\n",
      "252/252 [==============================] - 3s 13ms/step - loss: 0.3687\n",
      "Epoch 38/200\n",
      "252/252 [==============================] - 4s 14ms/step - loss: 0.3779\n",
      "Epoch 39/200\n",
      "252/252 [==============================] - 3s 13ms/step - loss: 0.3468\n",
      "Epoch 40/200\n",
      "252/252 [==============================] - 3s 13ms/step - loss: 0.3502\n",
      "Epoch 41/200\n",
      "252/252 [==============================] - 4s 16ms/step - loss: 0.3687\n",
      "Epoch 42/200\n",
      "252/252 [==============================] - 5s 18ms/step - loss: 0.3473\n",
      "Epoch 43/200\n",
      "252/252 [==============================] - 3s 13ms/step - loss: 0.3593\n",
      "Epoch 44/200\n",
      "252/252 [==============================] - 4s 15ms/step - loss: 0.3604\n",
      "Epoch 45/200\n",
      "252/252 [==============================] - 4s 16ms/step - loss: 0.3528\n",
      "Epoch 46/200\n",
      "252/252 [==============================] - 3s 14ms/step - loss: 0.3572\n",
      "Epoch 47/200\n",
      "252/252 [==============================] - 4s 15ms/step - loss: 0.3232\n",
      "Epoch 48/200\n",
      "252/252 [==============================] - 4s 14ms/step - loss: 0.3305\n",
      "Epoch 49/200\n",
      "252/252 [==============================] - 3s 14ms/step - loss: 0.3375\n",
      "Epoch 50/200\n",
      "252/252 [==============================] - 5s 18ms/step - loss: 0.3384\n",
      "Epoch 51/200\n",
      "252/252 [==============================] - 3s 14ms/step - loss: 0.3391\n",
      "Epoch 52/200\n",
      "252/252 [==============================] - 3s 13ms/step - loss: 0.3291\n",
      "Epoch 53/200\n",
      "252/252 [==============================] - 4s 16ms/step - loss: 0.3279\n",
      "Epoch 54/200\n",
      "252/252 [==============================] - 4s 17ms/step - loss: 0.3277\n",
      "Epoch 55/200\n",
      "252/252 [==============================] - 3s 14ms/step - loss: 0.3150\n",
      "Epoch 56/200\n",
      "252/252 [==============================] - 4s 16ms/step - loss: 0.3332\n",
      "Epoch 57/200\n",
      "252/252 [==============================] - 3s 13ms/step - loss: 0.3395\n",
      "Epoch 58/200\n",
      "252/252 [==============================] - 3s 14ms/step - loss: 0.3273\n",
      "Epoch 59/200\n",
      "252/252 [==============================] - 5s 20ms/step - loss: 0.3430\n",
      "Epoch 60/200\n",
      "252/252 [==============================] - 3s 14ms/step - loss: 0.3345\n",
      "Epoch 61/200\n",
      "252/252 [==============================] - 3s 14ms/step - loss: 0.3231\n",
      "Epoch 62/200\n",
      "252/252 [==============================] - 4s 17ms/step - loss: 0.3166\n",
      "Epoch 63/200\n",
      "252/252 [==============================] - 3s 13ms/step - loss: 0.2973\n",
      "Epoch 64/200\n",
      "252/252 [==============================] - 3s 13ms/step - loss: 0.3094\n",
      "Epoch 65/200\n",
      "252/252 [==============================] - 4s 14ms/step - loss: 0.3398\n",
      "Epoch 66/200\n",
      "252/252 [==============================] - 3s 13ms/step - loss: 0.3326\n",
      "Epoch 67/200\n",
      "252/252 [==============================] - 3s 13ms/step - loss: 0.3367\n",
      "Epoch 68/200\n",
      "252/252 [==============================] - 5s 19ms/step - loss: 0.3046\n",
      "Epoch 69/200\n",
      "252/252 [==============================] - 3s 13ms/step - loss: 0.3166\n",
      "Epoch 70/200\n",
      "252/252 [==============================] - 3s 14ms/step - loss: 0.3077\n",
      "Epoch 71/200\n",
      "252/252 [==============================] - 4s 17ms/step - loss: 0.3244\n",
      "Epoch 72/200\n",
      "252/252 [==============================] - 3s 13ms/step - loss: 0.3087\n",
      "Epoch 73/200\n",
      "252/252 [==============================] - 3s 14ms/step - loss: 0.3024\n",
      "Epoch 74/200\n",
      "252/252 [==============================] - 4s 14ms/step - loss: 0.3299\n",
      "Epoch 75/200\n",
      "252/252 [==============================] - 3s 13ms/step - loss: 0.3558\n",
      "Epoch 76/200\n",
      "252/252 [==============================] - 3s 14ms/step - loss: 0.3037\n",
      "Epoch 77/200\n",
      "252/252 [==============================] - 5s 19ms/step - loss: 0.3121\n",
      "Epoch 78/200\n",
      "252/252 [==============================] - 3s 14ms/step - loss: 0.3162\n",
      "Epoch 79/200\n",
      "252/252 [==============================] - 3s 13ms/step - loss: 0.3348\n",
      "Epoch 80/200\n",
      "252/252 [==============================] - 4s 17ms/step - loss: 0.3182\n",
      "Epoch 81/200\n",
      "252/252 [==============================] - 3s 13ms/step - loss: 0.3247\n",
      "Epoch 82/200\n",
      "252/252 [==============================] - 3s 13ms/step - loss: 0.3369\n",
      "Epoch 83/200\n",
      "252/252 [==============================] - 4s 15ms/step - loss: 0.3209\n",
      "Epoch 84/200\n",
      "252/252 [==============================] - 3s 13ms/step - loss: 0.3391\n",
      "Epoch 85/200\n",
      "252/252 [==============================] - 4s 16ms/step - loss: 0.3277\n",
      "Epoch 86/200\n",
      "252/252 [==============================] - 4s 18ms/step - loss: 0.3234\n",
      "Epoch 87/200\n",
      "252/252 [==============================] - 3s 13ms/step - loss: 0.3025\n",
      "Epoch 88/200\n",
      "252/252 [==============================] - 4s 15ms/step - loss: 0.3185\n",
      "Epoch 89/200\n",
      "252/252 [==============================] - 4s 15ms/step - loss: 0.3193\n",
      "Epoch 90/200\n",
      "252/252 [==============================] - 3s 13ms/step - loss: 0.3078\n",
      "Epoch 91/200\n",
      "252/252 [==============================] - 4s 14ms/step - loss: 0.3157\n",
      "Epoch 92/200\n",
      "252/252 [==============================] - 3s 14ms/step - loss: 0.3190\n",
      "Epoch 93/200\n",
      "252/252 [==============================] - 3s 14ms/step - loss: 0.3238\n",
      "Epoch 94/200\n",
      "252/252 [==============================] - 4s 17ms/step - loss: 0.3163\n",
      "Epoch 95/200\n",
      "252/252 [==============================] - 5s 19ms/step - loss: 0.3227\n",
      "Epoch 96/200\n",
      "252/252 [==============================] - 3s 14ms/step - loss: 0.2901\n",
      "Epoch 97/200\n",
      "252/252 [==============================] - 4s 18ms/step - loss: 0.3288\n",
      "Epoch 98/200\n",
      "252/252 [==============================] - 3s 13ms/step - loss: 0.2964\n",
      "Epoch 99/200\n",
      "252/252 [==============================] - 3s 13ms/step - loss: 0.3443\n",
      "Epoch 100/200\n",
      "252/252 [==============================] - 4s 15ms/step - loss: 0.3312\n",
      "Epoch 101/200\n",
      "252/252 [==============================] - 3s 13ms/step - loss: 0.3125\n",
      "Epoch 102/200\n",
      "252/252 [==============================] - 3s 13ms/step - loss: 0.3042\n",
      "Epoch 103/200\n",
      "252/252 [==============================] - 4s 15ms/step - loss: 0.3237\n",
      "Epoch 104/200\n",
      "252/252 [==============================] - 5s 20ms/step - loss: 0.3020\n",
      "Epoch 105/200\n",
      "252/252 [==============================] - 4s 16ms/step - loss: 0.3157\n",
      "Epoch 106/200\n",
      "252/252 [==============================] - 4s 14ms/step - loss: 0.3092\n",
      "Epoch 107/200\n",
      "252/252 [==============================] - 3s 13ms/step - loss: 0.3082\n",
      "Epoch 108/200\n",
      "252/252 [==============================] - 3s 13ms/step - loss: 0.3222\n",
      "Epoch 109/200\n",
      "252/252 [==============================] - 4s 15ms/step - loss: 0.3157\n",
      "Epoch 110/200\n",
      "252/252 [==============================] - 3s 13ms/step - loss: 0.3214\n",
      "Epoch 111/200\n",
      "252/252 [==============================] - 3s 13ms/step - loss: 0.3126\n",
      "Epoch 112/200\n",
      "252/252 [==============================] - 4s 17ms/step - loss: 0.3169\n",
      "Epoch 113/200\n",
      "252/252 [==============================] - 5s 19ms/step - loss: 0.3068\n",
      "Epoch 114/200\n",
      "252/252 [==============================] - 4s 16ms/step - loss: 0.3320\n",
      "Epoch 115/200\n",
      "252/252 [==============================] - 4s 15ms/step - loss: 0.3241\n",
      "Epoch 116/200\n",
      "252/252 [==============================] - 4s 14ms/step - loss: 0.3291\n",
      "Epoch 117/200\n",
      "252/252 [==============================] - 3s 13ms/step - loss: 0.3200\n",
      "Epoch 118/200\n",
      "252/252 [==============================] - 4s 14ms/step - loss: 0.3293\n",
      "Epoch 119/200\n",
      "252/252 [==============================] - 3s 13ms/step - loss: 0.3289\n",
      "Epoch 120/200\n",
      "252/252 [==============================] - 3s 13ms/step - loss: 0.3181\n",
      "Epoch 121/200\n",
      "252/252 [==============================] - 5s 19ms/step - loss: 0.3223\n",
      "Epoch 122/200\n",
      "252/252 [==============================] - 5s 20ms/step - loss: 0.3199\n",
      "Epoch 123/200\n",
      "252/252 [==============================] - 4s 14ms/step - loss: 0.3165\n",
      "Epoch 124/200\n",
      "252/252 [==============================] - 3s 13ms/step - loss: 0.3299\n",
      "Epoch 125/200\n",
      "252/252 [==============================] - 3s 14ms/step - loss: 0.3392\n",
      "Epoch 126/200\n",
      "252/252 [==============================] - 4s 15ms/step - loss: 0.3233\n",
      "Epoch 127/200\n",
      "252/252 [==============================] - 3s 13ms/step - loss: 0.3223\n",
      "Epoch 128/200\n",
      "252/252 [==============================] - 3s 14ms/step - loss: 0.3000\n",
      "Epoch 129/200\n",
      "252/252 [==============================] - 3s 14ms/step - loss: 0.3235\n",
      "Epoch 130/200\n",
      "252/252 [==============================] - 5s 19ms/step - loss: 0.3266\n",
      "Epoch 131/200\n",
      "252/252 [==============================] - 5s 18ms/step - loss: 0.3119\n",
      "Epoch 132/200\n",
      "252/252 [==============================] - 4s 15ms/step - loss: 0.3332\n",
      "Epoch 133/200\n",
      "252/252 [==============================] - 4s 14ms/step - loss: 0.3138\n",
      "Epoch 134/200\n",
      "252/252 [==============================] - 3s 13ms/step - loss: 0.3133\n",
      "Epoch 135/200\n",
      "252/252 [==============================] - 4s 14ms/step - loss: 0.3090\n",
      "Epoch 136/200\n",
      "252/252 [==============================] - 4s 14ms/step - loss: 0.3200\n",
      "Epoch 137/200\n",
      "252/252 [==============================] - 3s 14ms/step - loss: 0.3218\n",
      "Epoch 138/200\n",
      "252/252 [==============================] - 4s 15ms/step - loss: 0.3207\n",
      "Epoch 139/200\n",
      "252/252 [==============================] - 4s 18ms/step - loss: 0.3346\n",
      "Epoch 140/200\n",
      "252/252 [==============================] - 5s 21ms/step - loss: 0.3055\n",
      "Epoch 141/200\n",
      "252/252 [==============================] - 4s 15ms/step - loss: 0.3406\n",
      "Epoch 142/200\n",
      "252/252 [==============================] - 4s 14ms/step - loss: 0.3329\n",
      "Epoch 143/200\n",
      "252/252 [==============================] - 3s 13ms/step - loss: 0.3232\n",
      "Epoch 144/200\n",
      "252/252 [==============================] - 4s 14ms/step - loss: 0.3328\n",
      "Epoch 145/200\n",
      "252/252 [==============================] - 3s 13ms/step - loss: 0.3236\n",
      "Epoch 146/200\n",
      "252/252 [==============================] - 3s 13ms/step - loss: 0.3120\n",
      "Epoch 147/200\n",
      "252/252 [==============================] - 4s 14ms/step - loss: 0.2970\n",
      "Epoch 148/200\n",
      "252/252 [==============================] - 4s 17ms/step - loss: 0.3048\n",
      "Epoch 149/200\n",
      "252/252 [==============================] - 6s 24ms/step - loss: 0.2998\n",
      "Epoch 150/200\n",
      "252/252 [==============================] - 3s 13ms/step - loss: 0.3359\n",
      "Epoch 151/200\n",
      "252/252 [==============================] - 3s 13ms/step - loss: 0.3183\n",
      "Epoch 152/200\n",
      "252/252 [==============================] - 4s 15ms/step - loss: 0.3219\n",
      "Epoch 153/200\n",
      "252/252 [==============================] - 3s 14ms/step - loss: 0.3247\n",
      "Epoch 154/200\n",
      "252/252 [==============================] - 3s 14ms/step - loss: 0.3250\n",
      "Epoch 155/200\n",
      "252/252 [==============================] - 4s 15ms/step - loss: 0.3368\n",
      "Epoch 156/200\n",
      "252/252 [==============================] - 4s 17ms/step - loss: 0.3192\n",
      "Epoch 157/200\n",
      "252/252 [==============================] - 3s 13ms/step - loss: 0.3139\n",
      "Epoch 158/200\n",
      "252/252 [==============================] - 6s 25ms/step - loss: 0.3241\n",
      "Epoch 159/200\n",
      "252/252 [==============================] - 3s 13ms/step - loss: 0.3229\n",
      "Epoch 160/200\n",
      "252/252 [==============================] - 3s 13ms/step - loss: 0.3249\n",
      "Epoch 161/200\n",
      "252/252 [==============================] - 4s 15ms/step - loss: 0.3071\n",
      "Epoch 162/200\n",
      "252/252 [==============================] - 4s 14ms/step - loss: 0.3340\n",
      "Epoch 163/200\n",
      "252/252 [==============================] - 3s 14ms/step - loss: 0.3162\n",
      "Epoch 164/200\n",
      "252/252 [==============================] - 4s 17ms/step - loss: 0.3185\n",
      "Epoch 165/200\n",
      "252/252 [==============================] - 3s 13ms/step - loss: 0.3189\n",
      "Epoch 166/200\n",
      "252/252 [==============================] - 4s 14ms/step - loss: 0.2992\n",
      "Epoch 167/200\n",
      "252/252 [==============================] - 7s 26ms/step - loss: 0.3277\n",
      "Epoch 168/200\n",
      "252/252 [==============================] - 3s 13ms/step - loss: 0.3298\n",
      "Epoch 169/200\n",
      "252/252 [==============================] - 4s 14ms/step - loss: 0.2912\n",
      "Epoch 170/200\n",
      "252/252 [==============================] - 3s 13ms/step - loss: 0.3286\n",
      "Epoch 171/200\n",
      "252/252 [==============================] - 3s 13ms/step - loss: 0.2968\n",
      "Epoch 172/200\n",
      "252/252 [==============================] - 4s 17ms/step - loss: 0.3172\n",
      "Epoch 173/200\n",
      "252/252 [==============================] - 3s 13ms/step - loss: 0.3082\n",
      "Epoch 174/200\n",
      "252/252 [==============================] - 3s 14ms/step - loss: 0.3412\n",
      "Epoch 175/200\n",
      "252/252 [==============================] - 4s 15ms/step - loss: 0.3318\n",
      "Epoch 176/200\n",
      "252/252 [==============================] - 6s 24ms/step - loss: 0.3215\n",
      "Epoch 177/200\n",
      "252/252 [==============================] - 4s 16ms/step - loss: 0.3309\n",
      "Epoch 178/200\n",
      "252/252 [==============================] - 3s 13ms/step - loss: 0.3092\n",
      "Epoch 179/200\n",
      "252/252 [==============================] - 3s 13ms/step - loss: 0.3323\n",
      "Epoch 180/200\n",
      "252/252 [==============================] - 4s 15ms/step - loss: 0.3023\n",
      "Epoch 181/200\n",
      "252/252 [==============================] - 4s 15ms/step - loss: 0.3056\n",
      "Epoch 182/200\n",
      "252/252 [==============================] - 3s 13ms/step - loss: 0.3420\n",
      "Epoch 183/200\n",
      "252/252 [==============================] - 3s 14ms/step - loss: 0.3085\n",
      "Epoch 184/200\n",
      "252/252 [==============================] - 4s 14ms/step - loss: 0.3216\n",
      "Epoch 185/200\n",
      "252/252 [==============================] - 5s 20ms/step - loss: 0.2967\n",
      "Epoch 186/200\n",
      "252/252 [==============================] - 5s 20ms/step - loss: 0.3224\n",
      "Epoch 187/200\n",
      "252/252 [==============================] - 3s 13ms/step - loss: 0.3417\n",
      "Epoch 188/200\n",
      "252/252 [==============================] - 3s 14ms/step - loss: 0.3191\n",
      "Epoch 189/200\n",
      "252/252 [==============================] - 4s 17ms/step - loss: 0.3230\n",
      "Epoch 190/200\n",
      "252/252 [==============================] - 3s 13ms/step - loss: 0.3080\n",
      "Epoch 191/200\n",
      "252/252 [==============================] - 3s 13ms/step - loss: 0.3080\n",
      "Epoch 192/200\n",
      "252/252 [==============================] - 4s 15ms/step - loss: 0.3109\n",
      "Epoch 193/200\n",
      "252/252 [==============================] - 3s 13ms/step - loss: 0.3083\n",
      "Epoch 194/200\n",
      "252/252 [==============================] - 4s 17ms/step - loss: 0.3147\n",
      "Epoch 195/200\n",
      "252/252 [==============================] - 6s 25ms/step - loss: 0.2935\n",
      "Epoch 196/200\n",
      "252/252 [==============================] - 3s 13ms/step - loss: 0.3106\n",
      "Epoch 197/200\n",
      "252/252 [==============================] - 4s 17ms/step - loss: 0.3359\n",
      "Epoch 198/200\n",
      "252/252 [==============================] - 3s 14ms/step - loss: 0.3115\n",
      "Epoch 199/200\n",
      "252/252 [==============================] - 4s 14ms/step - loss: 0.3047\n",
      "Epoch 200/200\n",
      "252/252 [==============================] - 4s 15ms/step - loss: 0.3420\n"
     ]
    },
    {
     "data": {
      "text/plain": [
       "<tensorflow.python.keras.callbacks.History at 0x7ffacc160a50>"
      ]
     },
     "execution_count": 9,
     "metadata": {},
     "output_type": "execute_result"
    }
   ],
   "source": [
    "model.fit(predictors, label, epochs=200)"
   ]
  },
  {
   "cell_type": "markdown",
   "id": "52cab9f1",
   "metadata": {
    "_cell_guid": "61e99cfe-7395-4d61-8d1a-8539103d3db5",
    "_uuid": "448bf43b123060dfe4e27cb9f12889e4fe0ed2a7",
    "id": "GcMfWBOuR1l3",
    "papermill": {
     "duration": 3.529664,
     "end_time": "2021-09-30T17:54:23.496285",
     "exception": false,
     "start_time": "2021-09-30T17:54:19.966621",
     "status": "completed"
    },
    "tags": []
   },
   "source": [
    "## 5. Generating the text \n",
    "\n",
    "Great, our model architecture is now ready and we can train it using our data. Next lets write the function to predict the next word based on the input words (or seed text). We will first tokenize the seed text, pad the sequences and pass into the trained model to get predicted word. The multiple predicted words can be appended together to get predicted sequence.\n"
   ]
  },
  {
   "cell_type": "code",
   "execution_count": 10,
   "id": "ea25320f",
   "metadata": {
    "_uuid": "e71e56543b7065f115a05e3fd062262b3b94ad46",
    "execution": {
     "iopub.execute_input": "2021-09-30T17:54:30.742912Z",
     "iopub.status.busy": "2021-09-30T17:54:30.742384Z",
     "iopub.status.idle": "2021-09-30T17:54:30.746065Z",
     "shell.execute_reply": "2021-09-30T17:54:30.745594Z"
    },
    "id": "xNSRq6vWR1l3",
    "papermill": {
     "duration": 3.507383,
     "end_time": "2021-09-30T17:54:30.746176",
     "exception": false,
     "start_time": "2021-09-30T17:54:27.238793",
     "status": "completed"
    },
    "tags": []
   },
   "outputs": [],
   "source": [
    "def generate_text(seed_text, next_words, model, max_sequence_len):\n",
    "    for _ in range(next_words):\n",
    "        token_list = tokenizer.texts_to_sequences([seed_text])[0]\n",
    "        token_list = pad_sequences([token_list], maxlen=max_sequence_len-1, padding='pre')\n",
    "        predicted = model.predict_classes(token_list, verbose=0)\n",
    "        \n",
    "        output_word = \"\"\n",
    "        for word,index in tokenizer.word_index.items():\n",
    "            if index == predicted:\n",
    "                output_word = word\n",
    "                break\n",
    "        seed_text += \" \"+output_word\n",
    "    return seed_text.title()"
   ]
  },
  {
   "cell_type": "markdown",
   "id": "d2be725b",
   "metadata": {
    "_cell_guid": "ea0bddb6-acc6-4592-a2e0-ffc4129a582f",
    "_uuid": "c49bf4ea0e54f3145149e164e243d897f545b84c",
    "id": "c2HjPtdHR1l7",
    "papermill": {
     "duration": 4.274927,
     "end_time": "2021-09-30T17:54:38.541384",
     "exception": false,
     "start_time": "2021-09-30T17:54:34.266457",
     "status": "completed"
    },
    "tags": []
   },
   "source": [
    "## 6. Some Results"
   ]
  },
  {
   "cell_type": "code",
   "execution_count": 11,
   "id": "6fb05b0b",
   "metadata": {
    "_cell_guid": "e38dd280-093b-4091-b82b-9aa90045b107",
    "_kg_hide-input": true,
    "_uuid": "a21548224c9e661a29e3d369e348aada0599bdc9",
    "execution": {
     "iopub.execute_input": "2021-09-30T17:54:45.571378Z",
     "iopub.status.busy": "2021-09-30T17:54:45.570573Z",
     "iopub.status.idle": "2021-09-30T17:54:46.708817Z",
     "shell.execute_reply": "2021-09-30T17:54:46.708214Z"
    },
    "id": "z9NIohFfR1l9",
    "outputId": "950b8a47-71c7-4cf1-f4e5-50c2ca670bc5",
    "papermill": {
     "duration": 4.617206,
     "end_time": "2021-09-30T17:54:46.708976",
     "exception": false,
     "start_time": "2021-09-30T17:54:42.091770",
     "status": "completed"
    },
    "tags": []
   },
   "outputs": [
    {
     "name": "stdout",
     "output_type": "stream",
     "text": [
      "Jack  I Tried To Befriend Nikolas\n",
      "President Trump In Tariffs And March Madness\n",
      "Donald Trump Man At War Team Of\n",
      "India And China Plans On\n",
      "New York Has 7 Billion Reasons\n",
      "Science And Technology Has 7 A Trade Of The\n"
     ]
    }
   ],
   "source": [
    "print (generate_text(\"jack \", 5, model, max_sequence_len))\n",
    "print (generate_text(\"president trump\",5, model, max_sequence_len))\n",
    "print (generate_text(\"donald\", 6, model, max_sequence_len))\n",
    "print (generate_text(\"india and china\", 2, model, max_sequence_len))\n",
    "print (generate_text(\"new york\", 4, model, max_sequence_len))\n",
    "print (generate_text(\"science and technology\", 6, model, max_sequence_len))"
   ]
  },
  {
   "cell_type": "code",
   "execution_count": null,
   "id": "37c1dd78",
   "metadata": {
    "papermill": {
     "duration": 3.512862,
     "end_time": "2021-09-30T17:54:53.961250",
     "exception": false,
     "start_time": "2021-09-30T17:54:50.448388",
     "status": "completed"
    },
    "tags": []
   },
   "outputs": [],
   "source": []
  }
 ],
 "metadata": {
  "kernelspec": {
   "display_name": "Python 3 (ipykernel)",
   "language": "python",
   "name": "python3"
  },
  "language_info": {
   "codemirror_mode": {
    "name": "ipython",
    "version": 3
   },
   "file_extension": ".py",
   "mimetype": "text/x-python",
   "name": "python",
   "nbconvert_exporter": "python",
   "pygments_lexer": "ipython3",
   "version": "3.9.12"
  },
  "papermill": {
   "default_parameters": {},
   "duration": 814.688051,
   "end_time": "2021-09-30T17:55:00.964263",
   "environment_variables": {},
   "exception": null,
   "input_path": "__notebook__.ipynb",
   "output_path": "__notebook__.ipynb",
   "parameters": {},
   "start_time": "2021-09-30T17:41:26.276212",
   "version": "2.3.3"
  }
 },
 "nbformat": 4,
 "nbformat_minor": 5
}
